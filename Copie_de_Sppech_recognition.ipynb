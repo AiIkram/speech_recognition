{
  "nbformat": 4,
  "nbformat_minor": 0,
  "metadata": {
    "colab": {
      "provenance": []
    },
    "kernelspec": {
      "name": "python3",
      "display_name": "Python 3"
    },
    "language_info": {
      "name": "python"
    }
  },
  "cells": [
    {
      "cell_type": "code",
      "source": [
        "def transcribe_speech():\n",
        "    # Initialize recognizer class\n",
        "    r = sr.Recognizer()\n",
        "\n",
        "    # Use the microphone as the audio source\n",
        "    with sr.Microphone() as source:\n",
        "        st.info(\"Speak now...\")\n",
        "        audio_text = r.listen(source)\n",
        "        st.info(\"Transcribing...\")\n",
        "\n",
        "        try:\n",
        "            # Use Google Speech Recognition\n",
        "            text = r.recognize_google(audio_text)\n",
        "            return text\n",
        "        except Exception as e:\n",
        "            return f\"Error: {str(e)}\""
      ],
      "metadata": {
        "id": "oEitawHRWG1l"
      },
      "execution_count": null,
      "outputs": []
    },
    {
      "cell_type": "code",
      "source": [
        "def main():\n",
        "    st.title(\"Speech Recognition App\")\n",
        "    st.write(\"Click the button below to start speaking:\")\n",
        "\n",
        "    if st.button(\"Start Recording\"):\n",
        "        text = transcribe_speech()\n",
        "        st.write(\"Transcription:\", text)\n",
        "\n",
        "if __name__ == \"__main__\":\n",
        "    main()"
      ],
      "metadata": {
        "id": "qgdd7JhqWN_U"
      },
      "execution_count": null,
      "outputs": []
    }
  ]
}